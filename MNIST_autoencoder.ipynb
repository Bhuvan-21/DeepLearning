{
 "cells": [
  {
   "cell_type": "markdown",
   "metadata": {},
   "source": [
    "Importing all the dependencies and loading "
   ]
  },
  {
   "cell_type": "code",
   "execution_count": 1,
   "metadata": {},
   "outputs": [],
   "source": [
    "import torch\n",
    "import numpy as np\n",
    "from torchvision import datasets\n",
    "import torchvision.transforms as transforms\n",
    "\n",
    "# convert data to torch.FloatTensor\n",
    "transform = transforms.ToTensor()\n",
    "\n",
    "# load the training and test datasets\n",
    "train_data = datasets.MNIST(root='data', train=True,\n",
    "                                   download=True, transform=transform)\n",
    "test_data = datasets.MNIST(root='data', train=False,\n",
    "                                  download=True, transform=transform)"
   ]
  },
  {
   "cell_type": "code",
   "execution_count": 2,
   "metadata": {},
   "outputs": [],
   "source": [
    "train_loader = torch.utils.data.DataLoader(train_data, batch_size=16, num_workers=0)\n",
    "test_loader = torch.utils.data.DataLoader(test_data, batch_size=16, num_workers=0)"
   ]
  },
  {
   "cell_type": "code",
   "execution_count": 3,
   "metadata": {},
   "outputs": [
    {
     "data": {
      "text/plain": [
       "Text(0.5, 1.0, 'tensor(7)')"
      ]
     },
     "execution_count": 3,
     "metadata": {},
     "output_type": "execute_result"
    },
    {
     "data": {
      "image/png": "[encoded data removed]",
      "text/plain": [
       "<Figure size 360x288 with 1 Axes>"
      ]
     },
     "metadata": {
      "needs_background": "light"
     },
     "output_type": "display_data"
    }
   ],
   "source": [
    "import matplotlib.pyplot as plt\n",
    "%matplotlib inline\n",
    "images, labels = next(iter(train_loader))\n",
    "plt.figure(figsize = (5, 4))\n",
    "images = images.numpy()\n",
    "i = np.random.randint(1, 16)\n",
    "img = np.squeeze(images[i])\n",
    "plt.imshow(img, cmap = 'gray')\n",
    "plt.title(labels[i])"
   ]
  },
  {
   "cell_type": "code",
   "execution_count": 4,
   "metadata": {},
   "outputs": [
    {
     "name": "stdout",
     "output_type": "stream",
     "text": [
      "Using GPU\n"
     ]
    }
   ],
   "source": [
    "if torch.cuda.is_available():\n",
    "    train_on_gpu = True\n",
    "    print(\"Using GPU\")\n",
    "else:\n",
    "    train_on_gpu = False\n",
    "    print(\"Using CPU\")"
   ]
  },
  {
   "cell_type": "markdown",
   "metadata": {},
   "source": [
    "Defining the Architecture"
   ]
  },
  {
   "cell_type": "code",
   "execution_count": 5,
   "metadata": {},
   "outputs": [
    {
     "name": "stdout",
     "output_type": "stream",
     "text": [
      "Autoencoder(\n",
      "  (fc1): Linear(in_features=784, out_features=256, bias=True)\n",
      "  (fc2): Linear(in_features=256, out_features=64, bias=True)\n",
      "  (fc3): Linear(in_features=64, out_features=32, bias=True)\n",
      "  (fc4): Linear(in_features=32, out_features=64, bias=True)\n",
      "  (fc5): Linear(in_features=64, out_features=256, bias=True)\n",
      "  (fc6): Linear(in_features=256, out_features=784, bias=True)\n",
      ")\n"
     ]
    }
   ],
   "source": [
    "import torch.nn as nn\n",
    "import torch.nn.functional as F\n",
    "\n",
    "class Autoencoder(nn.Module):\n",
    "    def __init__(self):\n",
    "        super(Autoencoder, self).__init__()\n",
    "        self.fc1 = nn.Linear(784, 256)\n",
    "        self.fc2 = nn.Linear(256, 64)\n",
    "        self.fc3 = nn.Linear(64, 32)\n",
    "        self.fc4 = nn.Linear(32, 64)\n",
    "        self.fc5 = nn.Linear(64, 256)\n",
    "        self.fc6 = nn.Linear(256, 784)\n",
    "        \n",
    "    def forward(self, x):\n",
    "        x = x.view(-1, 28*28)\n",
    "        x = F.relu(self.fc1(x))\n",
    "        x = F.relu(self.fc2(x))\n",
    "        x = F.relu(self.fc3(x))\n",
    "        x = F.relu(self.fc4(x))\n",
    "        x = F.relu(self.fc5(x))\n",
    "        x = self.fc6(x)\n",
    "        return x\n",
    "    \n",
    "model = Autoencoder()\n",
    "if train_on_gpu:\n",
    "    model.cuda()\n",
    "print(model)"
   ]
  },
  {
   "cell_type": "markdown",
   "metadata": {},
   "source": [
    "Defining Loss parameter and optimizer"
   ]
  },
  {
   "cell_type": "code",
   "execution_count": 6,
   "metadata": {},
   "outputs": [],
   "source": [
    "optim = torch.optim.SGD(model.parameters(), lr = 0.03)\n",
    "criterion = nn.MSELoss()"
   ]
  },
  {
   "cell_type": "code",
   "execution_count": 7,
   "metadata": {},
   "outputs": [
    {
     "name": "stdout",
     "output_type": "stream",
     "text": [
      "Epoch: 1 \tTraining Loss: 1.431073\n",
      "Epoch: 10 \tTraining Loss: 0.972202\n",
      "Epoch: 20 \tTraining Loss: 0.750614\n",
      "Epoch: 30 \tTraining Loss: 0.646149\n",
      "Epoch: 40 \tTraining Loss: 0.571826\n",
      "Epoch: 50 \tTraining Loss: 0.530577\n",
      "Epoch: 60 \tTraining Loss: 0.497352\n",
      "Epoch: 70 \tTraining Loss: 0.465220\n",
      "Epoch: 80 \tTraining Loss: 0.447177\n",
      "Epoch: 90 \tTraining Loss: 0.431008\n",
      "Epoch: 100 \tTraining Loss: 0.412772\n",
      "Epoch: 110 \tTraining Loss: 0.396974\n",
      "Epoch: 120 \tTraining Loss: 0.382433\n",
      "Epoch: 130 \tTraining Loss: 0.368949\n",
      "Epoch: 140 \tTraining Loss: 0.357363\n",
      "Epoch: 150 \tTraining Loss: 0.347199\n",
      "Epoch: 160 \tTraining Loss: 0.338041\n",
      "Epoch: 170 \tTraining Loss: 0.329488\n",
      "Epoch: 180 \tTraining Loss: 0.322570\n",
      "Epoch: 190 \tTraining Loss: 0.316777\n",
      "Epoch: 200 \tTraining Loss: 0.311263\n"
     ]
    }
   ],
   "source": [
    "epochs = 200\n",
    "for e in range(1, epochs+1):\n",
    "    train_loss = 0.0\n",
    "    for images, _ in train_loader:\n",
    "        \n",
    "        images = images.cuda()\n",
    "        images = images.view(images.size(0), -1)\n",
    "        optim.zero_grad()\n",
    "        fake_images = model(images)\n",
    "        loss = criterion(images, fake_images)\n",
    "        loss.backward()\n",
    "        optim.step()\n",
    "        train_loss += loss.item()*images.size(0)\n",
    "    train_loss = train_loss/len(train_loader)\n",
    "    if e%10 == 0 or e == 1:\n",
    "        print('Epoch: {} \\tTraining Loss: {:.6f}'.format(\n",
    "        e, \n",
    "        train_loss\n",
    "        ))"
   ]
  },
  {
   "cell_type": "code",
   "execution_count": 8,
   "metadata": {},
   "outputs": [
    {
     "data": {
      "image/png": "[encoded data removed]",
      "text/plain": [
       "<Figure size 1800x288 with 20 Axes>"
      ]
     },
     "metadata": {
      "needs_background": "light"
     },
     "output_type": "display_data"
    }
   ],
   "source": [
    "images, labels = next(iter(test_loader))\n",
    "\n",
    "images_flatten = images.view(images.size(0), -1)\n",
    "images_flatten = images_flatten.cuda()\n",
    "output = model(images_flatten)\n",
    "images = images.cpu()\n",
    "images = images.numpy()\n",
    "\n",
    "output = output.view(16, 1, 28, 28)\n",
    "output = output.cpu()\n",
    "\n",
    "output = output.detach().numpy()\n",
    "\n",
    "fig, axes = plt.subplots(nrows=2, ncols=10, sharex=True, sharey=True, figsize=(25,4))\n",
    "\n",
    "for images, row in zip([images, output], axes):\n",
    "    for img, ax in zip(images, row):\n",
    "        ax.imshow(np.squeeze(img), cmap='gray')\n",
    "        ax.get_xaxis().set_visible(False)\n",
    "        ax.get_yaxis().set_visible(False)"
   ]
  },
  {
   "cell_type": "code",
   "execution_count": null,
   "metadata": {},
   "outputs": [],
   "source": []
  }
 ],
 "metadata": {
  "kernelspec": {
   "display_name": "Python 3",
   "language": "python",
   "name": "python3"
  },
  "language_info": {
   "codemirror_mode": {
    "name": "ipython",
    "version": 3
   },
   "file_extension": ".py",
   "mimetype": "text/x-python",
   "name": "python",
   "nbconvert_exporter": "python",
   "pygments_lexer": "ipython3",
   "version": "3.7.7"
  }
 },
 "nbformat": 4,
 "nbformat_minor": 4
}
